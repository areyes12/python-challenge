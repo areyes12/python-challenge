{
 "cells": [
  {
   "cell_type": "code",
   "execution_count": 4,
   "id": "a8b93aad-75fc-4e9b-986d-3dd03eccd665",
   "metadata": {},
   "outputs": [
    {
     "name": "stdout",
     "output_type": "stream",
     "text": [
      "Lets look at what information well working with shall we?!\n"
     ]
    }
   ],
   "source": [
    "# Remember... imports in beginning of file... name functions & variables w/ lowercase...underscores_only...write reusable code..\n",
    "\n",
    "# Step 1: Read The Data: Initialize Menu in List Style to hold contents of csv file\n",
    "\n",
    "import pandas as pd\n",
    "import csv as csv\n",
    "import numpy as np\n",
    "\n",
    "budget_data = pd.read_csv('/Users/alexisreyes/Desktop/CU-VIRT-FIN-PT-06-2023-U-LOLC/Homeworks/02-Python/Instructions/PyBank/Resources/budget_data.csv')\n",
    "\n",
    "# Note to self: Intent to incorporate regular human talk in Pseudocode: Will init data information with function & module imports\n",
    "# big thanks to stackoverflow, slack resources and w3 training quizzes\n",
    "\n",
    "print(\"Lets look at what information well working with shall we?!\")\n",
    "\n"
   ]
  },
  {
   "cell_type": "code",
   "execution_count": 5,
   "id": "4e6a3d6e",
   "metadata": {},
   "outputs": [
    {
     "name": "stdout",
     "output_type": "stream",
     "text": [
      "Ok... how much information are we really talking about?\n"
     ]
    }
   ],
   "source": [
    "## Make life fun and human-like digital interaction\n",
    "\n",
    "print(\"Ok... how much information are we really talking about?\")\n"
   ]
  },
  {
   "cell_type": "code",
   "execution_count": 6,
   "id": "29d56dff",
   "metadata": {},
   "outputs": [
    {
     "name": "stdout",
     "output_type": "stream",
     "text": [
      "\"Well it seems we have two important elements to consider with about 86 rows of information...\"\n"
     ]
    },
    {
     "ename": "NameError",
     "evalue": "name 'Data2' is not defined",
     "output_type": "error",
     "traceback": [
      "\u001b[0;31m---------------------------------------------------------------------------\u001b[0m",
      "\u001b[0;31mNameError\u001b[0m                                 Traceback (most recent call last)",
      "Cell \u001b[0;32mIn[6], line 5\u001b[0m\n\u001b[1;32m      1\u001b[0m \u001b[39m## Show your Dataset Table\u001b[39;00m\n\u001b[1;32m      3\u001b[0m \u001b[39mprint\u001b[39m(\u001b[39mf\u001b[39m\u001b[39m'\u001b[39m\u001b[39m\"\u001b[39m\u001b[39mWell it seems we have two important elements to consider with about 86 rows of information...\u001b[39m\u001b[39m\"\u001b[39m\u001b[39m'\u001b[39m)\n\u001b[0;32m----> 5\u001b[0m \u001b[39mprint\u001b[39m(Data2\u001b[39m.\u001b[39minfo())\n",
      "\u001b[0;31mNameError\u001b[0m: name 'Data2' is not defined"
     ]
    }
   ],
   "source": [
    "## Show your Dataset Table\n",
    "\n",
    "print(f'\"Well it seems we have two important elements to consider with about 86 rows of information...\"')\n",
    "\n",
    "print(Data2.info())"
   ]
  },
  {
   "cell_type": "code",
   "execution_count": null,
   "id": "5760da39",
   "metadata": {},
   "outputs": [
    {
     "name": "stdout",
     "output_type": "stream",
     "text": [
      "Wow! That sure is a lot of information to digest! Hmmm... I wonder how many total months the business has been open for?\n"
     ]
    }
   ],
   "source": [
    "#Include a calculation of the total number of months in the dataset.\n",
    "\n",
    "print(\"Wow! That sure is a lot of information to digest! Hmmm... I wonder how many total months the business has been open for?\")\n"
   ]
  },
  {
   "cell_type": "code",
   "execution_count": null,
   "id": "184950a9",
   "metadata": {},
   "outputs": [
    {
     "name": "stdout",
     "output_type": "stream",
     "text": [
      "Ok... so if we just focus on the dataset of Profits and Losses only...\n"
     ]
    },
    {
     "data": {
      "text/plain": [
       "0     867884\n",
       "1     984655\n",
       "2     322013\n",
       "3     -69417\n",
       "4     310503\n",
       "       ...  \n",
       "81    102685\n",
       "82    795914\n",
       "83     60988\n",
       "84    138230\n",
       "85    671099\n",
       "Name: Profit/Losses, Length: 86, dtype: int64"
      ]
     },
     "execution_count": 204,
     "metadata": {},
     "output_type": "execute_result"
    }
   ],
   "source": [
    "## Function to show 'Profits/Losses' column data set\n",
    "\n",
    "print('Ok... so if we just focus on the dataset of Profits and Losses only...')\n",
    "\n",
    "budget_data[\"Profit/Losses\"]"
   ]
  },
  {
   "cell_type": "code",
   "execution_count": null,
   "id": "362ff74b",
   "metadata": {},
   "outputs": [
    {
     "name": "stdout",
     "output_type": "stream",
     "text": [
      "Sure enough... we will.... find that.... Wait a minute....  What?!?\n"
     ]
    }
   ],
   "source": [
    "## Can also use budget_data.loc[:,\"Profit/Losses\"] to get same result\n",
    "\n",
    "print('Sure enough... we will.... find that.... Wait a minute....  What?!?')"
   ]
  },
  {
   "cell_type": "code",
   "execution_count": null,
   "id": "ab25f9ea",
   "metadata": {},
   "outputs": [
    {
     "name": "stdout",
     "output_type": "stream",
     "text": [
      "- Net Total Amount of Profits/Losses over Business Open -\n"
     ]
    },
    {
     "data": {
      "text/plain": [
       "671099"
      ]
     },
     "execution_count": 3,
     "metadata": {},
     "output_type": "execute_result"
    }
   ],
   "source": [
    "# Foundation for Calculations\n",
    "import pandas as pd\n",
    "budget_data = pd.read_csv('/Users/alexisreyes/Desktop/CU-VIRT-FIN-PT-06-2023-U-LOLC/Homeworks/02-Python/Instructions/PyBank/Resources/budget_data.csv')\n",
    "\n",
    "months_amount = budget_data['Date']\n",
    "net_amount = budget_data['Profit/Losses']\n",
    "\n",
    "net_amount[:]\n",
    "total_money = 0\n",
    "for x in net_amount:\n",
    "    total = total_money + x\n",
    "\n",
    "# Calculate the net total amount of Profit/Losses over the entire period. (3 points)\n",
    "\n",
    "print('- Net Total Amount of Profits/Losses over Business Open -')\n",
    "\n",
    "total"
   ]
  },
  {
   "cell_type": "code",
   "execution_count": null,
   "id": "885e12e5",
   "metadata": {},
   "outputs": [
    {
     "name": "stdout",
     "output_type": "stream",
     "text": [
      "The Average Change of Business Revenue over the Entire Period is $ [-2315.1176470588234] US dollars\n"
     ]
    }
   ],
   "source": [
    "#Calculate the average of the changes in Profit/Losses over the entire period. (\"Kinda sounds like a measure of volatility no?\")\n",
    "\n",
    "profit_losses = net_amount\n",
    "\n",
    "# Change Calculation\n",
    "\n",
    "changes = [profit_losses[x] - profit_losses[x-1] for x in range(1, len(profit_losses))]\n",
    "\n",
    "# Calculate Averages of Changes\n",
    "\n",
    "average_change = [sum(changes) / len(changes)]\n",
    "\n",
    "# Show Difference of Average Change\n",
    "\n",
    "print('The Average Change of Business Revenue over the Entire Period is $', average_change, 'US dollars.')"
   ]
  },
  {
   "cell_type": "code",
   "execution_count": null,
   "id": "f2673218",
   "metadata": {},
   "outputs": [
    {
     "name": "stdout",
     "output_type": "stream",
     "text": [
      "Alright... it seems like if we looked at every month of performance, on average, we take home about $7803 US Dollars.\n"
     ]
    }
   ],
   "source": [
    "\n",
    "\n",
    "# Create a function or formula that pretty much shows Average = All Profits/Losses Added Up Divided By 86 (Amount of Months)\n",
    "\n",
    "TrueMean = total / 86\n",
    "\n",
    "print(f'Alright... it seems like if we looked at every month of performance, on average, we take home about ${round(TrueMean)} US Dollars.')"
   ]
  },
  {
   "cell_type": "code",
   "execution_count": 40,
   "id": "bf123b48",
   "metadata": {},
   "outputs": [
    {
     "name": "stdout",
     "output_type": "stream",
     "text": [
      "Seems like our best and worst months we both made $ 1170593 US Dollars and lost $ -1196225 US Dollars\n"
     ]
    }
   ],
   "source": [
    "#Calculate the greatest increase in Profits over the entire period (Date and Amount).\n",
    "\n",
    "# Foundations for Functions\n",
    "\n",
    "profit_losses = net_amount\n",
    "\n",
    "good_profit = []\n",
    "bad_loss = []\n",
    "for i in profit_losses:\n",
    "    if i <0:\n",
    "        bad_loss.append(i)\n",
    "    else:\n",
    "        good_profit.append(i)\n",
    "\n",
    "best_profit = max(good_profit)\n",
    "worst_loss = min(bad_loss)\n",
    "\n",
    "# Dash of Human Touch\n",
    "\n",
    "print(f'Seems like our best and worst months we both made $', best_profit, 'US Dollars and lost $', worst_loss, 'US Dollars')"
   ]
  },
  {
   "cell_type": "code",
   "execution_count": 74,
   "id": "4db4756d",
   "metadata": {},
   "outputs": [
    {
     "data": {
      "text/plain": [
       "'Alright... well, lets make sure this hard work counts for something and really find out whats going on here'"
      ]
     },
     "execution_count": 74,
     "metadata": {},
     "output_type": "execute_result"
    }
   ],
   "source": [
    "#Calculate the greatest decrease in Losses over the entire period (Date and Amount).\n",
    "\n",
    "f'Alright... well, lets make sure this hard work counts for something and really find out whats going on here...'"
   ]
  },
  {
   "cell_type": "code",
   "execution_count": null,
   "id": "b258dc5c",
   "metadata": {},
   "outputs": [],
   "source": [
    "# Set your foundation for variables to be used\n",
    "\n",
    "# diff() is the difference betweenn largest of profit/loss and 2nd/largest of profit/loss\n",
    "        if best_profit == 0:\n",
    "            minimum = deposit\n",
    "        elif deposit < minimum:\n",
    "            minimum = deposit\n",
    "        \n",
    "        # find the largest deposit = maximum\n",
    "        if deposit > maximum:\n",
    "            maximum = deposit\n",
    "\n",
    "# calculate the average\n",
    "average = total_deposits / deposit_count\n",
    "\n",
    "average = net_amount[:]\n",
    "\n",
    "print(net_amount)\n"
   ]
  },
  {
   "cell_type": "code",
   "execution_count": 71,
   "id": "50b686ba",
   "metadata": {},
   "outputs": [],
   "source": [
    "#Print the analysis and export the analysis to a text file that contains the final results. (5 points)\n",
    "\n",
    "# print out a basic report of the daily deposits\n",
    "print(\"- daily deposit report - \")\n",
    "print(f\"number of deposits: {deposit_count}\")\n",
    "print(f\"total deposits: ${total_deposits}\")\n",
    "print(f\"daily average: {round(average, 2)}\")\n",
    "print(f\"smallest deposit: {minimum}\")\n",
    "print(f\"largest deposit: {maximum}\")"
   ]
  }
 ],
 "metadata": {
  "kernelspec": {
   "display_name": "Python 3 (ipykernel)",
   "language": "python",
   "name": "python3"
  },
  "language_info": {
   "codemirror_mode": {
    "name": "ipython",
    "version": 3
   },
   "file_extension": ".py",
   "mimetype": "text/x-python",
   "name": "python",
   "nbconvert_exporter": "python",
   "pygments_lexer": "ipython3",
   "version": "3.10.11"
  }
 },
 "nbformat": 4,
 "nbformat_minor": 5
}
