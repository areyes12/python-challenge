{
 "cells": [
  {
   "cell_type": "code",
   "execution_count": 183,
   "id": "a8b93aad-75fc-4e9b-986d-3dd03eccd665",
   "metadata": {},
   "outputs": [
    {
     "name": "stdout",
     "output_type": "stream",
     "text": [
      "Lets look at what information we will work with, shall we?!\n"
     ]
    }
   ],
   "source": [
    "# Remember... imports in beginning of file... name functions & variables w/ lowercase...underscores_only...write reusable code..\n",
    "\n",
    "# Step 1: Read The Data: Initialize Menu in List Style to hold contents of csv file\n",
    "\n",
    "import pandas as pd\n",
    "import csv as csv\n",
    "import numpy as np\n",
    "\n",
    "budget_df= pd.read_csv('/Users/alexisreyes/Desktop/CU-VIRT-FIN-PT-06-2023-U-LOLC/Homeworks/02-Python/Instructions/PyBank/Resources/budget_data.csv')\n",
    "\n",
    "\n",
    "# Note to self: Intent to incorporate regular human talk in Pseudocode: Will init data information with function & module imports\n",
    "# big thanks to stackoverflow, slack resources and w3 training quizzes\n",
    "\n",
    "print(\"Lets look at what information we will work with, shall we?!\")"
   ]
  },
  {
   "cell_type": "code",
   "execution_count": 184,
   "id": "4e6a3d6e",
   "metadata": {},
   "outputs": [
    {
     "name": "stdout",
     "output_type": "stream",
     "text": [
      "Ok... how much information are we really talking about?\n"
     ]
    }
   ],
   "source": [
    "## Make life fun and human-like digital interaction\n",
    "\n",
    "print(\"Ok... how much information are we really talking about?\")"
   ]
  },
  {
   "cell_type": "code",
   "execution_count": 185,
   "id": "29d56dff",
   "metadata": {},
   "outputs": [
    {
     "name": "stdout",
     "output_type": "stream",
     "text": [
      "        Date  Profit/Losses\n",
      "0   Jan-2010         867884\n",
      "1   Feb-2010         984655\n",
      "2   Mar-2010         322013\n",
      "3   Apr-2010         -69417\n",
      "4   May-2010         310503\n",
      "..       ...            ...\n",
      "81  Oct-2016         102685\n",
      "82  Nov-2016         795914\n",
      "83  Dec-2016          60988\n",
      "84  Jan-2017         138230\n",
      "85  Feb-2017         671099\n",
      "\n",
      "[86 rows x 2 columns]\n",
      "\n",
      "\"Well it seems we have two important elements to consider with about 86 rows of information with 2 measurables...\"\n",
      "\n",
      "Wow! That sure is a lot of information to digest! Hmmm... I wonder how many total months the business has been open for?\n"
     ]
    }
   ],
   "source": [
    "## Show your Dataset Table\n",
    "\n",
    "print(budget_df)\n",
    "print('')\n",
    "print(f'\"Well it seems we have two important elements to consider with about 86 rows of information with 2 measurables...\"')\n",
    "print('')\n",
    "print(\"Wow! That sure is a lot of information to digest! Hmmm... I wonder how many total months the business has been open for?\")"
   ]
  },
  {
   "cell_type": "code",
   "execution_count": 186,
   "id": "594ea08f-7971-45a4-a0f2-2341a174c695",
   "metadata": {},
   "outputs": [
    {
     "name": "stdout",
     "output_type": "stream",
     "text": [
      "Indeed... So lucky customers have been enjoying your phenomenal food for the last 86 months. Impressive!\n"
     ]
    }
   ],
   "source": [
    "u = len(budget_df)\n",
    "\n",
    "print('Indeed... So lucky customers have been enjoying your phenomenal food for the last', u, 'months. Impressive!')"
   ]
  },
  {
   "cell_type": "code",
   "execution_count": 187,
   "id": "184950a9",
   "metadata": {},
   "outputs": [
    {
     "name": "stdout",
     "output_type": "stream",
     "text": [
      "Ok... so if we just focus on the dataset of Profits and Losses only...\n",
      "\n",
      "Here we go!\n"
     ]
    }
   ],
   "source": [
    "## Function to show 'Profits/Losses' column data set\n",
    "\n",
    "print('Ok... so if we just focus on the dataset of Profits and Losses only...')\n",
    "print('')\n",
    "budget_df[\"Profit/Losses\"]\n",
    "\n",
    "print('Here we go!')"
   ]
  },
  {
   "cell_type": "code",
   "execution_count": 188,
   "id": "362ff74b",
   "metadata": {},
   "outputs": [
    {
     "name": "stdout",
     "output_type": "stream",
     "text": [
      "Sure enough... we will.... find that.... Wait a minute....  What?!?\n"
     ]
    }
   ],
   "source": [
    "print('Sure enough... we will.... find that.... Wait a minute....  What?!?')"
   ]
  },
  {
   "cell_type": "code",
   "execution_count": 189,
   "id": "d3db279f-d3ed-4308-b0e6-d58dd2cdcdf4",
   "metadata": {},
   "outputs": [
    {
     "name": "stdout",
     "output_type": "stream",
     "text": [
      "- Net Total Amount of Profits/Losses over Business Open -\n"
     ]
    },
    {
     "data": {
      "text/plain": [
       "671099"
      ]
     },
     "execution_count": 189,
     "metadata": {},
     "output_type": "execute_result"
    }
   ],
   "source": [
    "# Foundation for Calculations\n",
    "import pandas as pd\n",
    "budget_df = pd.read_csv('/Users/alexisreyes/Desktop/CU-VIRT-FIN-PT-06-2023-U-LOLC/Homeworks/02-Python/Instructions/PyBank/Resources/budget_data.csv')\n",
    "\n",
    "months_amount = budget_df['Date']\n",
    "net_amount = budget_df['Profit/Losses']\n",
    "\n",
    "net_amount[:]\n",
    "total_money = 0\n",
    "for x in net_amount:\n",
    "    total = total_money + x\n",
    "\n",
    "print('- Net Total Amount of Profits/Losses over Business Open -')\n",
    "\n",
    "total"
   ]
  },
  {
   "cell_type": "code",
   "execution_count": 190,
   "id": "885e12e5",
   "metadata": {},
   "outputs": [
    {
     "name": "stdout",
     "output_type": "stream",
     "text": [
      "The Average Change of Business Revenue over the Entire Period is $ -2315.12 US dollars.\n"
     ]
    }
   ],
   "source": [
    "#Calculate the average of the changes in Profit/Losses over the entire period. (\"Kinda sounds like a measure of volatility no?\")\n",
    "\n",
    "profit_losses = budget_df['Profit/Losses']\n",
    "\n",
    "# Change Calculation \n",
    "\n",
    "changes = [profit_losses[i+1] - profit_losses[i] for i in range(len(profit_losses) - 1)]\n",
    "average_change = sum(changes) / len(changes)\n",
    "\n",
    "# Calculate Averages of Changes \n",
    "## qaverage_change = sum(changes1) / len(changes1)\n",
    "\n",
    "# Show Difference of Average Change\n",
    "\n",
    "print('The Average Change of Business Revenue over the Entire Period is $', round(average_change, 2), 'US dollars.')"
   ]
  },
  {
   "cell_type": "code",
   "execution_count": 191,
   "id": "bf123b48",
   "metadata": {},
   "outputs": [
    {
     "name": "stdout",
     "output_type": "stream",
     "text": [
      "Seems like our best and worst months we both made $ 1170593 US Dollars and lost $ -1196225 US Dollars\n"
     ]
    }
   ],
   "source": [
    "#Calculate the greatest increase in Profits over the entire period (Date and Amount).\n",
    "\n",
    "# Foundations for Functions\n",
    "\n",
    "profit_losses = net_amount\n",
    "\n",
    "good_profit = []\n",
    "bad_loss = []\n",
    "for i in profit_losses:\n",
    "    if i <0:\n",
    "        bad_loss.append(i)\n",
    "    else:\n",
    "        good_profit.append(i)\n",
    "\n",
    "best_profit = max(good_profit)\n",
    "worst_loss = min(bad_loss)\n",
    "\n",
    "# Dash of Human Touch\n",
    "\n",
    "print(f'Seems like our best and worst months we both made $', best_profit, 'US Dollars and lost $', worst_loss, 'US Dollars')"
   ]
  },
  {
   "cell_type": "code",
   "execution_count": 192,
   "id": "4db4756d",
   "metadata": {},
   "outputs": [
    {
     "data": {
      "text/plain": [
       "'Alright... well, lets make sure this hard work counts for something and find out whats REALLY going on here...'"
      ]
     },
     "execution_count": 192,
     "metadata": {},
     "output_type": "execute_result"
    }
   ],
   "source": [
    "#Calculate the greatest decrease in Losses over the entire period (Date and Amount).\n",
    "\n",
    "f'Alright... well, lets make sure this hard work counts for something and find out whats REALLY going on here...'"
   ]
  },
  {
   "cell_type": "code",
   "execution_count": 193,
   "id": "b258dc5c",
   "metadata": {},
   "outputs": [
    {
     "name": "stdout",
     "output_type": "stream",
     "text": [
      "Hmmm.. it appears the difference between are best two performing months was $ 15125 US Dollars!\n"
     ]
    }
   ],
   "source": [
    "# Set your foundation for variables to be used\n",
    "\n",
    "# diff() is the difference betweenn largest of profit/loss and 2nd/largest of profit/loss\n",
    "import pandas as pd\n",
    "import numpy as np\n",
    "budget_data = pd.read_csv('/Users/alexisreyes/Desktop/CU-VIRT-FIN-PT-06-2023-U-LOLC/Homeworks/02-Python/Instructions/PyBank/Resources/budget_data.csv')\n",
    "\n",
    "months_amount = budget_data['Date']\n",
    "net_amount = budget_data['Profit/Losses']\n",
    "\n",
    "profit_losses = net_amount\n",
    "good_profit = []\n",
    "bad_loss = []\n",
    "\n",
    "for i in profit_losses:\n",
    "    if i <0:\n",
    "        bad_loss.append(i)\n",
    "    else:\n",
    "        good_profit.append(i)\n",
    "\n",
    "good_profit.sort(reverse=True)\n",
    "bad_loss.sort(reverse=True)\n",
    "\n",
    "sorted_profit = np.array(good_profit)\n",
    "sorted_loss = np.array(bad_loss) \n",
    "\n",
    "top_two_diff = sorted_profit[1] - sorted_profit[2]\n",
    "\n",
    "print('Hmmm.. it appears the difference between are best two performing months was $', top_two_diff, 'US Dollars!')"
   ]
  },
  {
   "cell_type": "code",
   "execution_count": 194,
   "id": "50b686ba",
   "metadata": {},
   "outputs": [
    {
     "name": "stdout",
     "output_type": "stream",
     "text": [
      "- daily deposit report - \n",
      "\n",
      "total number of months: 86\n",
      "net total amount of profits/losses: $38382578\n",
      "average of changes in profits/losses: $: -2315.12\n",
      "greatest increase in profits(date and amount): Feb-2012 $1170593\n",
      "greatest decrease in losses (date and amount): Sep-2013 $-1196225\n"
     ]
    }
   ],
   "source": [
    "#Foundational Script\n",
    "#Print the analysis and export the analysis to a text file that contains the final results.\n",
    "\n",
    "import pandas as pd\n",
    "import csv\n",
    "import numpy as np\n",
    "\n",
    "budget_data = pd.read_csv('/Users/alexisreyes/Desktop/CU-VIRT-FIN-PT-06-2023-U-LOLC/Homeworks/02-Python/Instructions/PyBank/Resources/budget_data.csv')\n",
    "\n",
    "months_amount = budget_data['Date']\n",
    "net_amount = budget_data['Profit/Losses']\n",
    "\n",
    "net_amount[:]\n",
    "total_money = 0\n",
    "for u in net_amount:\n",
    "    total = total_money + u\n",
    "    truemean = total / u\n",
    "\n",
    "\n",
    "profit_losses = net_amount\n",
    "good_profit = []\n",
    "bad_loss = []\n",
    "\n",
    "for i in profit_losses:\n",
    "    if i <0:\n",
    "        bad_loss.append(i)\n",
    "    else:\n",
    "        good_profit.append(i)\n",
    "\n",
    "good_profit.sort(reverse=True)\n",
    "bad_loss.sort(reverse=True)\n",
    "\n",
    "sorted_profit = np.array(good_profit)\n",
    "sorted_loss = np.array(bad_loss) \n",
    "\n",
    "top_two_diff = sorted_profit[1] - sorted_profit[2]\n",
    "\n",
    "realtotal = sum(net_amount)\n",
    "\n",
    "## Not sure what happened while I was coding the whole homework out that I did not realize it wants both date and amount alongside greatest increase.\n",
    "## I thought it was greatest deposit amount which was easy with max, or lowest amount with min functions -____-\n",
    "## need to calculate this near the end of my entire coding project so that it's included in the final instructions with printing and running daily report\n",
    "\n",
    "import csv\n",
    "\n",
    "with open('/Users/alexisreyes/Desktop/CU-VIRT-FIN-PT-06-2023-U-LOLC/Homeworks/02-Python/Instructions/PyBank/Resources/budget_data.csv', 'r') as file:\n",
    "    csv_reader = csv.reader('/Users/alexisreyes/Desktop/CU-VIRT-FIN-PT-06-2023-U-LOLC/Homeworks/02-Python/Instructions/PyBank/Resources/budget_data.csv')\n",
    "    next(csv_reader)\n",
    "    data = list(csv_reader)\n",
    "\n",
    "\n",
    "print(\"- daily deposit report - \")\n",
    "print(\"\")\n",
    "print(f\"total number of months: {len(budget_data)}\")\n",
    "print(f\"net total amount of profits/losses: ${realtotal}\")\n",
    "print(f\"average of changes in profits/losses: $: {round(average_change, 2)}\")\n",
    "print(f\"greatest increase in profits(date and amount): {months_amount[25]} ${max(profit_losses)}\")\n",
    "print(f\"greatest decrease in losses (date and amount): {months_amount[44]} ${min(profit_losses)}\")"
   ]
  },
  {
   "cell_type": "code",
   "execution_count": 195,
   "id": "1eafd15b",
   "metadata": {},
   "outputs": [
    {
     "name": "stdout",
     "output_type": "stream",
     "text": [
      "we are here: /Users/alexisreyes/Desktop/python-challenge/PyBank\n"
     ]
    }
   ],
   "source": [
    "from pathlib import Path\n",
    "print(f'we are here: {Path.cwd()}')"
   ]
  },
  {
   "cell_type": "code",
   "execution_count": 196,
   "id": "314b72fd",
   "metadata": {},
   "outputs": [
    {
     "ename": "FileNotFoundError",
     "evalue": "[Errno 2] No such file or directory: '/Resources/dailyrpt.csv'",
     "output_type": "error",
     "traceback": [
      "\u001b[0;31m---------------------------------------------------------------------------\u001b[0m",
      "\u001b[0;31mFileNotFoundError\u001b[0m                         Traceback (most recent call last)",
      "Cell \u001b[0;32mIn[196], line 6\u001b[0m\n\u001b[1;32m      2\u001b[0m daily_report \u001b[39m=\u001b[39m Path(\u001b[39m\"\u001b[39m\u001b[39m/Resources/dailyrpt.csv\u001b[39m\u001b[39m\"\u001b[39m)\n\u001b[1;32m      4\u001b[0m \u001b[39m# Open the output path as a file and pass into the 'csv.writer()' function\u001b[39;00m\n\u001b[1;32m      5\u001b[0m \u001b[39m# Set the delimiter/separater as a ','\u001b[39;00m\n\u001b[0;32m----> 6\u001b[0m \u001b[39mwith\u001b[39;00m \u001b[39mopen\u001b[39;49m(daily_report, \u001b[39m\"\u001b[39;49m\u001b[39mw\u001b[39;49m\u001b[39m\"\u001b[39;49m) \u001b[39mas\u001b[39;00m csvfile:\n\u001b[1;32m      7\u001b[0m     csvwriter \u001b[39m=\u001b[39m csv\u001b[39m.\u001b[39mwriter(csvfile, delimiter\u001b[39m=\u001b[39m\u001b[39m\"\u001b[39m\u001b[39m,\u001b[39m\u001b[39m\"\u001b[39m)\n\u001b[1;32m      8\u001b[0m      \u001b[39m# Write the header to the output file\u001b[39;00m\n",
      "File \u001b[0;32m~/anaconda3/envs/dev/lib/python3.10/site-packages/IPython/core/interactiveshell.py:284\u001b[0m, in \u001b[0;36m_modified_open\u001b[0;34m(file, *args, **kwargs)\u001b[0m\n\u001b[1;32m    277\u001b[0m \u001b[39mif\u001b[39;00m file \u001b[39min\u001b[39;00m {\u001b[39m0\u001b[39m, \u001b[39m1\u001b[39m, \u001b[39m2\u001b[39m}:\n\u001b[1;32m    278\u001b[0m     \u001b[39mraise\u001b[39;00m \u001b[39mValueError\u001b[39;00m(\n\u001b[1;32m    279\u001b[0m         \u001b[39mf\u001b[39m\u001b[39m\"\u001b[39m\u001b[39mIPython won\u001b[39m\u001b[39m'\u001b[39m\u001b[39mt let you open fd=\u001b[39m\u001b[39m{\u001b[39;00mfile\u001b[39m}\u001b[39;00m\u001b[39m by default \u001b[39m\u001b[39m\"\u001b[39m\n\u001b[1;32m    280\u001b[0m         \u001b[39m\"\u001b[39m\u001b[39mas it is likely to crash IPython. If you know what you are doing, \u001b[39m\u001b[39m\"\u001b[39m\n\u001b[1;32m    281\u001b[0m         \u001b[39m\"\u001b[39m\u001b[39myou can use builtins\u001b[39m\u001b[39m'\u001b[39m\u001b[39m open.\u001b[39m\u001b[39m\"\u001b[39m\n\u001b[1;32m    282\u001b[0m     )\n\u001b[0;32m--> 284\u001b[0m \u001b[39mreturn\u001b[39;00m io_open(file, \u001b[39m*\u001b[39;49margs, \u001b[39m*\u001b[39;49m\u001b[39m*\u001b[39;49mkwargs)\n",
      "\u001b[0;31mFileNotFoundError\u001b[0m: [Errno 2] No such file or directory: '/Resources/dailyrpt.csv'"
     ]
    }
   ],
   "source": [
    "# Set the path for the dailyrpt.csv\n",
    "daily_report = Path(\"/Resources/dailyrpt.csv\")\n",
    "\n",
    "# Open the output path as a file and pass into the 'csv.writer()' function\n",
    "# Set the delimiter/separater as a ','\n",
    "with open(daily_report, \"w\") as csvfile:\n",
    "    csvwriter = csv.writer(csvfile, delimiter=\",\")\n",
    "     # Write the header to the output file\n",
    "    csvwriter.writerow(data)\n"
   ]
  }
 ],
 "metadata": {
  "kernelspec": {
   "display_name": "Python 3 (ipykernel)",
   "language": "python",
   "name": "python3"
  },
  "language_info": {
   "codemirror_mode": {
    "name": "ipython",
    "version": 3
   },
   "file_extension": ".py",
   "mimetype": "text/x-python",
   "name": "python",
   "nbconvert_exporter": "python",
   "pygments_lexer": "ipython3",
   "version": "3.10.11"
  }
 },
 "nbformat": 4,
 "nbformat_minor": 5
}
