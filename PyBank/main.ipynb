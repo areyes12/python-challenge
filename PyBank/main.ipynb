{
 "cells": [
  {
   "cell_type": "code",
   "execution_count": 9,
   "id": "a8b93aad-75fc-4e9b-986d-3dd03eccd665",
   "metadata": {},
   "outputs": [
    {
     "name": "stdout",
     "output_type": "stream",
     "text": [
      "Lets look at what information we will work with, shall we?!\n",
      "Ok... how much information are we really talking about?\n"
     ]
    }
   ],
   "source": [
    "# Remember... imports in beginning of file... name functions & variables w/ lowercase...underscores_only...write reusable code..\n",
    "\n",
    "# Step 1: Read The Data: Initialize Menu in List Style to hold contents of csv file\n",
    "\n",
    "import pandas as pd\n",
    "import csv as csv\n",
    "import numpy as np\n",
    "\n",
    "budget_df= pd.read_csv('/Users/alexisreyes/Desktop/CU-VIRT-FIN-PT-06-2023-U-LOLC/Homeworks/02-Python/Instructions/PyBank/Resources/budget_data.csv')\n",
    "\n",
    "\n",
    "# Note to self: Intent to incorporate regular human talk in Pseudocode: Will init data information with function & module imports\n",
    "# big thanks to stackoverflow, slack resources and w3 training quizzes\n",
    "\n",
    "print(\"Lets look at what information we will work with, shall we?!\")"
   ]
  },
  {
   "cell_type": "code",
   "execution_count": 3,
   "id": "4e6a3d6e",
   "metadata": {},
   "outputs": [
    {
     "name": "stdout",
     "output_type": "stream",
     "text": [
      "Ok... how much information are we really talking about?\n"
     ]
    }
   ],
   "source": [
    "## Make life fun and human-like digital interaction\n",
    "\n",
    "print(\"Ok... how much information are we really talking about?\")"
   ]
  },
  {
   "cell_type": "code",
   "execution_count": 4,
   "id": "29d56dff",
   "metadata": {},
   "outputs": [
    {
     "name": "stdout",
     "output_type": "stream",
     "text": [
      "        Date  Profit/Losses\n",
      "0   Jan-2010         867884\n",
      "1   Feb-2010         984655\n",
      "2   Mar-2010         322013\n",
      "3   Apr-2010         -69417\n",
      "4   May-2010         310503\n",
      "..       ...            ...\n",
      "81  Oct-2016         102685\n",
      "82  Nov-2016         795914\n",
      "83  Dec-2016          60988\n",
      "84  Jan-2017         138230\n",
      "85  Feb-2017         671099\n",
      "\n",
      "[86 rows x 2 columns]\n",
      "\n",
      "\"Well it seems we have two important elements to consider with about 86 rows of information with 2 measurables...\"\n",
      "\n",
      "Wow! That sure is a lot of information to digest! Hmmm... I wonder how many total months the business has been open for?\n"
     ]
    }
   ],
   "source": [
    "## Show your Dataset Table\n",
    "\n",
    "print(budget_df)\n",
    "print('')\n",
    "print(f'\"Well it seems we have two important elements to consider with about 86 rows of information with 2 measurables...\"')\n",
    "print('')\n",
    "print(\"Wow! That sure is a lot of information to digest! Hmmm... I wonder how many total months the business has been open for?\")"
   ]
  },
  {
   "cell_type": "code",
   "execution_count": 5,
   "id": "594ea08f-7971-45a4-a0f2-2341a174c695",
   "metadata": {},
   "outputs": [
    {
     "name": "stdout",
     "output_type": "stream",
     "text": [
      "Indeed... So lucky customers have been enjoying your phenomenal food for the last 86 months. Impressive!\n"
     ]
    }
   ],
   "source": [
    "u = len(budget_df)\n",
    "\n",
    "print('Indeed... So lucky customers have been enjoying your phenomenal food for the last', u, 'months. Impressive!')"
   ]
  },
  {
   "cell_type": "code",
   "execution_count": 6,
   "id": "184950a9",
   "metadata": {},
   "outputs": [
    {
     "name": "stdout",
     "output_type": "stream",
     "text": [
      "Ok... so if we just focus on the dataset of Profits and Losses only...\n",
      "\n",
      "Here we go!\n"
     ]
    }
   ],
   "source": [
    "## Function to show 'Profits/Losses' column data set\n",
    "\n",
    "print('Ok... so if we just focus on the dataset of Profits and Losses only...')\n",
    "print('')\n",
    "budget_df[\"Profit/Losses\"]\n",
    "\n",
    "print('Here we go!')"
   ]
  },
  {
   "cell_type": "code",
   "execution_count": 7,
   "id": "362ff74b",
   "metadata": {},
   "outputs": [
    {
     "name": "stdout",
     "output_type": "stream",
     "text": [
      "Sure enough... we will.... find that.... Wait a minute....  What?!?\n"
     ]
    }
   ],
   "source": [
    "print('Sure enough... we will.... find that.... Wait a minute....  What?!?')"
   ]
  },
  {
   "cell_type": "code",
   "execution_count": 8,
   "id": "d3db279f-d3ed-4308-b0e6-d58dd2cdcdf4",
   "metadata": {},
   "outputs": [
    {
     "ename": "NameError",
     "evalue": "name 'budget_data' is not defined",
     "output_type": "error",
     "traceback": [
      "\u001b[0;31m---------------------------------------------------------------------------\u001b[0m",
      "\u001b[0;31mNameError\u001b[0m                                 Traceback (most recent call last)",
      "Cell \u001b[0;32mIn[8], line 5\u001b[0m\n\u001b[1;32m      2\u001b[0m \u001b[39mimport\u001b[39;00m \u001b[39mpandas\u001b[39;00m \u001b[39mas\u001b[39;00m \u001b[39mpd\u001b[39;00m\n\u001b[1;32m      3\u001b[0m budget_df \u001b[39m=\u001b[39m pd\u001b[39m.\u001b[39mread_csv(\u001b[39m'\u001b[39m\u001b[39m/Users/alexisreyes/Desktop/CU-VIRT-FIN-PT-06-2023-U-LOLC/Homeworks/02-Python/Instructions/PyBank/Resources/budget_data.csv\u001b[39m\u001b[39m'\u001b[39m)\n\u001b[0;32m----> 5\u001b[0m months_amount \u001b[39m=\u001b[39m budget_data[\u001b[39m'\u001b[39m\u001b[39mDate\u001b[39m\u001b[39m'\u001b[39m]\n\u001b[1;32m      6\u001b[0m net_amount \u001b[39m=\u001b[39m budget_data[\u001b[39m'\u001b[39m\u001b[39mProfit/Losses\u001b[39m\u001b[39m'\u001b[39m]\n\u001b[1;32m      8\u001b[0m net_amount[:]\n",
      "\u001b[0;31mNameError\u001b[0m: name 'budget_data' is not defined"
     ]
    }
   ],
   "source": [
    "# Foundation for Calculations\n",
    "import pandas as pd\n",
    "budget_df = pd.read_csv('/Users/alexisreyes/Desktop/CU-VIRT-FIN-PT-06-2023-U-LOLC/Homeworks/02-Python/Instructions/PyBank/Resources/budget_data.csv')\n",
    "\n",
    "months_amount = budget_data['Date']\n",
    "net_amount = budget_data['Profit/Losses']\n",
    "\n",
    "net_amount[:]\n",
    "total_money = 0\n",
    "for x in net_amount:\n",
    "    total = total_money + x\n",
    "\n",
    "print('- Net Total Amount of Profits/Losses over Business Open -')\n",
    "\n",
    "total"
   ]
  },
  {
   "cell_type": "code",
   "execution_count": null,
   "id": "885e12e5",
   "metadata": {},
   "outputs": [
    {
     "name": "stdout",
     "output_type": "stream",
     "text": [
      "The Average Change of Business Revenue over the Entire Period is $ -2315.12 US dollars.\n"
     ]
    }
   ],
   "source": [
    "#Calculate the average of the changes in Profit/Losses over the entire period. (\"Kinda sounds like a measure of volatility no?\")\n",
    "\n",
    "profit_losses = budget_data['Profit/Losses']\n",
    "\n",
    "# Change Calculation \n",
    "\n",
    "changes = [profit_losses[i+1] - profit_losses[i] for i in range(len(profit_losses) - 1)]\n",
    "average_change = sum(changes) / len(changes)\n",
    "\n",
    "# Calculate Averages of Changes \n",
    "## qaverage_change = sum(changes1) / len(changes1)\n",
    "\n",
    "# Show Difference of Average Change\n",
    "\n",
    "print('The Average Change of Business Revenue over the Entire Period is $', round(average_change, 2), 'US dollars.')"
   ]
  },
  {
   "cell_type": "code",
   "execution_count": null,
   "id": "bf123b48",
   "metadata": {},
   "outputs": [
    {
     "name": "stdout",
     "output_type": "stream",
     "text": [
      "Seems like our best and worst months we both made $ 1170593 US Dollars and lost $ -1196225 US Dollars\n"
     ]
    }
   ],
   "source": [
    "#Calculate the greatest increase in Profits over the entire period (Date and Amount).\n",
    "\n",
    "# Foundations for Functions\n",
    "\n",
    "profit_losses = net_amount\n",
    "\n",
    "good_profit = []\n",
    "bad_loss = []\n",
    "for i in profit_losses:\n",
    "    if i <0:\n",
    "        bad_loss.append(i)\n",
    "    else:\n",
    "        good_profit.append(i)\n",
    "\n",
    "best_profit = max(good_profit)\n",
    "worst_loss = min(bad_loss)\n",
    "\n",
    "# Dash of Human Touch\n",
    "\n",
    "print(f'Seems like our best and worst months we both made $', best_profit, 'US Dollars and lost $', worst_loss, 'US Dollars')"
   ]
  },
  {
   "cell_type": "code",
   "execution_count": null,
   "id": "4db4756d",
   "metadata": {},
   "outputs": [
    {
     "data": {
      "text/plain": [
       "'Alright... well, lets make sure this hard work counts for something and find out whats REALLY going on here...'"
      ]
     },
     "execution_count": 18,
     "metadata": {},
     "output_type": "execute_result"
    }
   ],
   "source": [
    "#Calculate the greatest decrease in Losses over the entire period (Date and Amount).\n",
    "\n",
    "f'Alright... well, lets make sure this hard work counts for something and find out whats REALLY going on here...'"
   ]
  },
  {
   "cell_type": "code",
   "execution_count": null,
   "id": "b258dc5c",
   "metadata": {},
   "outputs": [
    {
     "name": "stdout",
     "output_type": "stream",
     "text": [
      "Hmmm.. it appears the difference between are best two performing months was $ 15125 US Dollars!\n"
     ]
    }
   ],
   "source": [
    "# Set your foundation for variables to be used\n",
    "\n",
    "# diff() is the difference betweenn largest of profit/loss and 2nd/largest of profit/loss\n",
    "import pandas as pd\n",
    "import numpy as np\n",
    "budget_data = pd.read_csv('/Users/alexisreyes/Desktop/CU-VIRT-FIN-PT-06-2023-U-LOLC/Homeworks/02-Python/Instructions/PyBank/Resources/budget_data.csv')\n",
    "\n",
    "months_amount = budget_data['Date']\n",
    "net_amount = budget_data['Profit/Losses']\n",
    "\n",
    "profit_losses = net_amount\n",
    "good_profit = []\n",
    "bad_loss = []\n",
    "\n",
    "for i in profit_losses:\n",
    "    if i <0:\n",
    "        bad_loss.append(i)\n",
    "    else:\n",
    "        good_profit.append(i)\n",
    "\n",
    "good_profit.sort(reverse=True)\n",
    "bad_loss.sort(reverse=True)\n",
    "\n",
    "sorted_profit = np.array(good_profit)\n",
    "sorted_loss = np.array(bad_loss) \n",
    "\n",
    "top_two_diff = sorted_profit[1] - sorted_profit[2]\n",
    "\n",
    "print('Hmmm.. it appears the difference between are best two performing months was $', top_two_diff, 'US Dollars!')"
   ]
  },
  {
   "cell_type": "code",
   "execution_count": null,
   "id": "50b686ba",
   "metadata": {},
   "outputs": [
    {
     "name": "stdout",
     "output_type": "stream",
     "text": [
      "- daily deposit report - \n",
      "\n",
      "total number of months: 86\n",
      "net total amount of profits/losses: $38382578\n",
      "average of changes in profits/losses: $: -2315.12\n",
      "greatest increase in profits(date and amount): $60988\n",
      "greatest decrease in losses (date and amount): $1170593\n"
     ]
    }
   ],
   "source": [
    "#Foundational Script\n",
    "#Print the analysis and export the analysis to a text file that contains the final results.\n",
    "\n",
    "import pandas as pd\n",
    "import numpy as np\n",
    "budget_data = pd.read_csv('/Users/alexisreyes/Desktop/CU-VIRT-FIN-PT-06-2023-U-LOLC/Homeworks/02-Python/Instructions/PyBank/Resources/budget_data.csv')\n",
    "\n",
    "months_amount = budget_data['Date']\n",
    "net_amount = budget_data['Profit/Losses']\n",
    "\n",
    "net_amount[:]\n",
    "total_money = 0\n",
    "for u in net_amount:\n",
    "    total = total_money + x\n",
    "    truemean = total / u\n",
    "\n",
    "\n",
    "profit_losses = net_amount\n",
    "good_profit = []\n",
    "bad_loss = []\n",
    "\n",
    "for i in profit_losses:\n",
    "    if i <0:\n",
    "        bad_loss.append(i)\n",
    "    else:\n",
    "        good_profit.append(i)\n",
    "\n",
    "good_profit.sort(reverse=True)\n",
    "bad_loss.sort(reverse=True)\n",
    "\n",
    "sorted_profit = np.array(good_profit)\n",
    "sorted_loss = np.array(bad_loss) \n",
    "\n",
    "top_two_diff = sorted_profit[1] - sorted_profit[2]\n",
    "\n",
    "realtotal = sum(net_amount)\n",
    "\n",
    "## Not sure what happened while I was coding the whole homework out that I did not realize it wants both date and amount alongside greatest increase.\n",
    "## I thought it was greatest deposit amount which was easy with max, or lowest amount with min functions -____-\n",
    "## need to calculate this near the end of my entire coding project so that it's included in the final instructions with printing and running daily report\n",
    "\n",
    "import csv\n",
    "\n",
    "with open('/Users/alexisreyes/Desktop/CU-VIRT-FIN-PT-06-2023-U-LOLC/Homeworks/02-Python/Instructions/PyBank/Resources/budget_data.csv', 'r') as file:\n",
    "    csv_reader = csv.reader('/Users/alexisreyes/Desktop/CU-VIRT-FIN-PT-06-2023-U-LOLC/Homeworks/02-Python/Instructions/PyBank/Resources/budget_data.csv')\n",
    "    next(csv_reader)\n",
    "    data = list(csv_reader)\n",
    "\n",
    "\n",
    "print(\"- daily deposit report - \")\n",
    "print(\"\")\n",
    "print(f\"total number of months: {len(budget_data)}\")\n",
    "print(f\"net total amount of profits/losses: ${realtotal}\")\n",
    "print(f\"average of changes in profits/losses: $: {round(average_change, 2)}\")\n",
    "print(f\"greatest increase in profits(date and amount): ${min(good_profit)}\")\n",
    "print(f\"greatest decrease in losses (date and amount): ${max(good_profit)}\")"
   ]
  },
  {
   "cell_type": "code",
   "execution_count": null,
   "id": "1eafd15b",
   "metadata": {},
   "outputs": [
    {
     "name": "stdout",
     "output_type": "stream",
     "text": [
      "we are here: /Users/alexisreyes/Desktop/python-challenge/PyBank\n"
     ]
    }
   ],
   "source": [
    "from pathlib import Path\n",
    "print(f'we are here: {Path.cwd()}')"
   ]
  },
  {
   "cell_type": "code",
   "execution_count": null,
   "id": "314b72fd",
   "metadata": {},
   "outputs": [
    {
     "ename": "SyntaxError",
     "evalue": "Missing parentheses in call to 'print'. Did you mean print(...)? (988210336.py, line 1)",
     "output_type": "error",
     "traceback": [
      "\u001b[0;36m  Cell \u001b[0;32mIn[22], line 1\u001b[0;36m\u001b[0m\n\u001b[0;31m    print the analysis to the terminal and export a text file with the results\u001b[0m\n\u001b[0m    ^\u001b[0m\n\u001b[0;31mSyntaxError\u001b[0m\u001b[0;31m:\u001b[0m Missing parentheses in call to 'print'. Did you mean print(...)?\n"
     ]
    }
   ],
   "source": [
    "print the analysis to the terminal and export a text file with the results\n",
    "      \n",
    "# 4. Easy If & Else\n",
    "x = 2\n",
    "y = 5\n",
    "if (x ** 3 >= y) and (y ** 2 < 26):\n",
    "    print(\"GOT QUESTION 4!\")\n",
    "else:\n",
    "    print(\"Oh good you can count\")\n",
    "\n",
    "# 5. elif Proof_of_Concept\n",
    "height = 66\n",
    "age = 16\n",
    "adult_permission = True\n",
    "\n",
    "if (height > 70) and (age >= 18):\n",
    "    print(\"Can ride all the roller coasters\")\n",
    "elif (height > 65) and (age >= 18):\n",
    "    print(\"Can ride moderate roller coasters\")\n",
    "elif (height > 60) and (age >= 18):\n",
    "    print(\"Can ride light roller coasters\")\n",
    "elif ((height > 50) and (age >= 18)) or ((adult_permission) and (height > 50)):\n",
    "    print(\"Can ride bumper cars\")\n",
    "else:\n",
    "    print(\"Stick to lazy river\")\n",
    "\n",
    "\n",
    "\n",
    "\n",
    "\n",
    "max_increase = 0\n",
    "what_date = ''\n",
    "previous_profit = int(data[1:i-1][1])\n",
    "current_profit = int(data[1:i][1])\n",
    "\n",
    "for i in range(1, len(data)):\n",
    "    profit_change = current_profit - previous_profit,\n",
    "\n",
    "if previous_profit > max_increase:\n",
    "    max_increase = profit_change\n",
    "    max_increase_date = data[1:i][0]\n",
    "print(max_increase_date, max_increase)\n"
   ]
  }
 ],
 "metadata": {
  "kernelspec": {
   "display_name": "Python 3 (ipykernel)",
   "language": "python",
   "name": "python3"
  },
  "language_info": {
   "codemirror_mode": {
    "name": "ipython",
    "version": 3
   },
   "file_extension": ".py",
   "mimetype": "text/x-python",
   "name": "python",
   "nbconvert_exporter": "python",
   "pygments_lexer": "ipython3",
   "version": "3.10.11"
  }
 },
 "nbformat": 4,
 "nbformat_minor": 5
}
