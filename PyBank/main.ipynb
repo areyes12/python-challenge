{
 "cells": [
  {
   "cell_type": "code",
   "execution_count": 6,
   "id": "a8b93aad-75fc-4e9b-986d-3dd03eccd665",
   "metadata": {},
   "outputs": [
    {
     "ename": "SyntaxError",
     "evalue": "invalid syntax. Perhaps you forgot a comma? (3246088366.py, line 7)",
     "output_type": "error",
     "traceback": [
      "\u001b[0;36m  Cell \u001b[0;32mIn[6], line 7\u001b[0;36m\u001b[0m\n\u001b[0;31m    print (Let's look at what information we'll working with shall we?!)\u001b[0m\n\u001b[0m              ^\u001b[0m\n\u001b[0;31mSyntaxError\u001b[0m\u001b[0;31m:\u001b[0m invalid syntax. Perhaps you forgot a comma?\n"
     ]
    }
   ],
   "source": [
    "# Remember... imports in beginning of file... name functions & variables w/ lowercase...underscores_only...write reusable code..\n",
    "# Step 1: Read The Data: Initialize Menu in List Style to hold contents of csv file\n",
    "# Familiar Human Talk: Init information data with imports and big thanks to stackoverflow, slack resources and w3 training quizzes\n",
    "\n",
    "# functions\n",
    "\n",
    "print (Let's look at what information we'll working with shall we?!)\n",
    "\n",
    "import pandas as pd\n",
    "\n",
    "df = pd.read_csv('/Users/alexisreyes/Desktop/class/Homeworks/02-Python/Instructions/PyBank/Resources/budget_data.csv')\n",
    "\n",
    "print(df.to_string()) \n",
    "\n",
    "# variables\n",
    "\n",
    "months = {\n",
    "    \"month\": ['Jan', 'Feb', 'Mar', 'Apr', 'May', 'Jun', 'Jul', 'Aug', 'Sept', 'Oct', 'Nov', 'Dec'],\n",
    "    \"years\": [2010, 2011, 2012, 2013, 2014, 2015, 2016, 2017],\n",
    "    \"result\": [1, 2, 3, 4, 5, 6, 7, 8, 9, 10, 11, 12]\n",
    "}"
   ]
  },
  {
   "cell_type": "code",
   "execution_count": null,
   "id": "4e6a3d6e",
   "metadata": {},
   "outputs": [
    {
     "name": "stdout",
     "output_type": "stream",
     "text": [
      "Ok... let's try to simply all that information.\n",
      "month     [Jan, Feb, Mar, Apr, May, Jun, Jul, Aug, Sept,...\n",
      "years      [2010, 2011, 2012, 2013, 2014, 2015, 2016, 2017]\n",
      "result              [1, 2, 3, 4, 5, 6, 7, 8, 9, 10, 11, 12]\n",
      "dtype: object\n"
     ]
    }
   ],
   "source": [
    "## Shows your Dataset Table\n",
    "\n",
    "print(\"Ok... let's try to organize all that information.\")\n",
    "\n",
    "calculate = pd.Series(months)\n",
    "\n",
    "print(calculate)"
   ]
  },
  {
   "cell_type": "code",
   "execution_count": 33,
   "id": "de5dee1a",
   "metadata": {},
   "outputs": [
    {
     "name": "stdout",
     "output_type": "stream",
     "text": [
      "I wonder how many total months the business has been open for?\n",
      "<bound method DataFrame.info of         Date  Profit/Losses\n",
      "0   Jan-2010         867884\n",
      "1   Feb-2010         984655\n",
      "2   Mar-2010         322013\n",
      "3   Apr-2010         -69417\n",
      "4   May-2010         310503\n",
      "..       ...            ...\n",
      "81  Oct-2016         102685\n",
      "82  Nov-2016         795914\n",
      "83  Dec-2016          60988\n",
      "84  Jan-2017         138230\n",
      "85  Feb-2017         671099\n",
      "\n",
      "[86 rows x 2 columns]>\n"
     ]
    }
   ],
   "source": [
    "#Include a calculation of the total number of months in the dataset.\n",
    "\n",
    "print(\"I wonder how many total months the business has been open for?\")\n",
    "\n",
    "#Remember... calculation of total number of months in the dataset\n",
    "\n",
    "print(df.info)"
   ]
  },
  {
   "cell_type": "code",
   "execution_count": 12,
   "id": "362ff74b",
   "metadata": {},
   "outputs": [
    {
     "name": "stdout",
     "output_type": "stream",
     "text": [
      "Hey dude, your shop restaurant has been open for {months} months!\n"
     ]
    }
   ],
   "source": [
    "print(\"Hey dude, your shop restaurant has been open for __ months!\")"
   ]
  },
  {
   "cell_type": "code",
   "execution_count": null,
   "id": "e2e7859b",
   "metadata": {},
   "outputs": [],
   "source": [
    "# Calculate the net total amount of Profit/Losses over the entire period. (3 points)\n",
    "\n",
    "## need to find a way to decipher or interpret data column information set. Then create function to call info, analyze info, then locate highest or lowest one"
   ]
  },
  {
   "cell_type": "code",
   "execution_count": null,
   "id": "885e12e5",
   "metadata": {},
   "outputs": [],
   "source": [
    "#Calculate the average of the changes in Profit/Losses over the entire period. (5 points) \"This sounds like a measure of volatility no?\"ArithmeticError\n",
    "\n",
    "# Create a function or formula that pretty much shows P2 = 20Profits* / Number of Profits = Average of Profit"
   ]
  },
  {
   "cell_type": "code",
   "execution_count": null,
   "id": "31bc7a53",
   "metadata": {},
   "outputs": [],
   "source": [
    "# Need to create formulas to determine profits or losses and calculation\n"
   ]
  },
  {
   "cell_type": "code",
   "execution_count": null,
   "id": "bf123b48",
   "metadata": {},
   "outputs": [],
   "source": [
    "#Calculate the greatest increase in Profits over the entire period (Date and Amount). (10 points)\n",
    "#sounds like a If or Else Function Usage"
   ]
  },
  {
   "cell_type": "code",
   "execution_count": 39,
   "id": "4db4756d",
   "metadata": {},
   "outputs": [],
   "source": [
    "#Calculate the greatest decrease in Losses over the entire period (Date and Amount). (10 points)\n",
    "\n",
    "#Print the analysis and export the analysis to a text file that contains the final results. (5 points)\n",
    "\n",
    "def sales_performance(month,year,result):\n",
    "    calculate = print(month,year,result)\n",
    "    return calculate \n",
    "\n",
    "twelve_months = [\n",
    "    {\"month\" : \"jan\",\n",
    "     \"numeric\" : \"01\"},\n",
    "    {\"month\" : \"feb\",\n",
    "     \"numeric\" : \"02\"},\n",
    "    {\"month\" : \"mar\",\n",
    "     \"numeric\" : \"03\"},\n",
    "    {\"month\" : \"apr\",\n",
    "     \"numeric\" : \"04\"},\n",
    "    {\"month\" : \"may\",\n",
    "     \"numeric\" : \"05\"},\n",
    "    {\"month\" : \"jun\",\n",
    "     \"numeric\" : \"06\"},\n",
    "    {\"month\" : \"jul\",\n",
    "     \"numeric\" : \"07\"},\n",
    "]"
   ]
  }
 ],
 "metadata": {
  "kernelspec": {
   "display_name": "Python 3 (ipykernel)",
   "language": "python",
   "name": "python3"
  },
  "language_info": {
   "codemirror_mode": {
    "name": "ipython",
    "version": 3
   },
   "file_extension": ".py",
   "mimetype": "text/x-python",
   "name": "python",
   "nbconvert_exporter": "python",
   "pygments_lexer": "ipython3",
   "version": "3.10.11"
  }
 },
 "nbformat": 4,
 "nbformat_minor": 5
}
