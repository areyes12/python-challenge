{
 "cells": [
  {
   "cell_type": "code",
   "execution_count": null,
   "id": "a8b93aad-75fc-4e9b-986d-3dd03eccd665",
   "metadata": {},
   "outputs": [],
   "source": [
    "# @TODO: Import libraries\n",
    "import os\n",
    "import csv \n",
    "import pandas as pd\n",
    "from pathlib import Path\n",
    "\n",
    "# Set file paths for menu_data.csv and sales_data.csv\n",
    "\n",
    "csv_path = \"/Users/alexisreyes/Desktop/CU-VIRT-FIN-PT-06-2023-U-LOLC/Homeworks/02-Python/Instructions/PyRamen/Resources/menu_data.csv\"  \n",
    "menu_filepath = Path('~../../CU-VIRT-FIN-PT-06-2023-U-LOLC/Homeworks/02-Python/Instructions/PyRamen/Resources/menu_data.csv')\n",
    "sales_filepath = Path('~../../CU-VIRT-FIN-PT-06-2023-U-LOLC/Homeworks/02-Python/Instructions/PyRamen/Resources/sales_data.csv')\n",
    "\n",
    "menu = []\n",
    "sales = []\n",
    "\n",
    "# Initialize list objects to hold our menu and sales data\n",
    "\n",
    "menu_data = menu\n",
    "sales_data = sales\n",
    "\n",
    "# Read in the menu data into the menu list\n",
    "\n",
    "with open('/Users/alexisreyes/Desktop/CU-VIRT-FIN-PT-06-2023-U-LOLC/Homeworks/02-Python/Instructions/PyRamen/Resources/menu_data.csv', 'r') as file:\n",
    "    csv_reader = csv.reader('/Users/alexisreyes/Desktop/CU-VIRT-FIN-PT-06-2023-U-LOLC/Homeworks/02-Python/Instructions/PyRamen/Resources/menu_data.csv')\n",
    "    next(csv_reader)\n",
    "    for row in csv_reader:\n",
    "        menu.append(row)\n",
    "        print(row)\n",
    "\n",
    "# Read in the sales data into the sales list\n",
    "\n",
    "with open('/Users/alexisreyes/Desktop/CU-VIRT-FIN-PT-06-2023-U-LOLC/Homeworks/02-Python/Instructions/PyRamen/Resources/sales_data.csv', 'r') as file:\n",
    "    csv_reader = csv.reader('/Users/alexisreyes/Desktop/CU-VIRT-FIN-PT-06-2023-U-LOLC/Homeworks/02-Python/Instructions/PyRamen/Resources/sales_data.csv')\n",
    "    next(csv_reader)\n",
    "    for row in csv_reader:\n",
    "        sales.append(row)\n",
    "        print(row)\n",
    "\n",
    "\n",
    "# Initialize dict object to hold our key-value pairs of items and metrics\n",
    "report = {}\n",
    "\n",
    "# Initialize a row counter variable\n",
    "row_count = 0"
   ]
  }
 ],
 "metadata": {
  "kernelspec": {
   "display_name": "Python 3 (ipykernel)",
   "language": "python",
   "name": "python3"
  },
  "language_info": {
   "codemirror_mode": {
    "name": "ipython",
    "version": 3
   },
   "file_extension": ".py",
   "mimetype": "text/x-python",
   "name": "python",
   "nbconvert_exporter": "python",
   "pygments_lexer": "ipython3",
   "version": "3.10.8"
  },
  "toc-showcode": false,
  "toc-showmarkdowntxt": false
 },
 "nbformat": 4,
 "nbformat_minor": 5
}
